{
 "metadata": {
  "language_info": {
   "codemirror_mode": {
    "name": "ipython",
    "version": 3
   },
   "file_extension": ".py",
   "mimetype": "text/x-python",
   "name": "python",
   "nbconvert_exporter": "python",
   "pygments_lexer": "ipython3",
   "version": "3.7.6-final"
  },
  "orig_nbformat": 2,
  "kernelspec": {
   "name": "python3",
   "display_name": "Python 3"
  }
 },
 "nbformat": 4,
 "nbformat_minor": 2,
 "cells": [
  {
   "source": [
    "# RGI-nf Report\n",
    "\n",
    "RGI-nf integrates [The Resistance Gene Identifier (RGI)](https://github.com/arpcard/rgi) package to to predict resistome(s) from nucleotide data based on homology and SNP models. The application uses reference data from the [Comprehensive Antibiotic Resistance Database (CARD)](https://card.mcmaster.ca/).\n"
   ],
   "cell_type": "markdown",
   "metadata": {}
  },
  {
   "source": [
    "## Results Summary\n",
    "\n",
    "![Hit counts](../rgi_fasta/report/count_hits.png)"
   ],
   "cell_type": "markdown",
   "metadata": {}
  },
  {
   "source": [
    "### Drug Class\n",
    "\n",
    "AMR genes categorised by Drug Class. Yellow represents a perfect hit, teal represents a strict hit, purple represents no hit.\n",
    "![Drug Class Heatmap](../rgi_fasta/heatmap/drug_class_heatmap.png)\n"
   ],
   "cell_type": "markdown",
   "metadata": {}
  },
  {
   "source": [
    "### Resistance Mechanism\n",
    "\n",
    "AMR genes categorised by Resistance Mechanism. Yellow represents a perfect hit, teal represents a strict hit, purple represents no hit.\n",
    "![Resistance Mechanism Heatmap](../rgi_fasta/heatmap/resistance_mechanism_heatmap.png)"
   ],
   "cell_type": "markdown",
   "metadata": {}
  },
  {
   "source": [
    "### Gene Family\n",
    "\n",
    "AMR genes categorised by Resistance Mechanism. Yellow represents a perfect hit, teal represents a strict hit, purple represents no hit.\n",
    "![Resistance Mechanism Heatmap](../rgi_fasta/heatmap/gene_family_heatmap.png)"
   ],
   "cell_type": "markdown",
   "metadata": {}
  }
 ]
}